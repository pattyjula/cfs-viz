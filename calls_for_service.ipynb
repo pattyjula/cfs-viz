{
 "cells": [
  {
   "cell_type": "code",
   "execution_count": 103,
   "metadata": {},
   "outputs": [],
   "source": [
    "# DESC:         Analysis of Calls for Service (911 calls) for the first half of 2017 and 2018\n",
    "#                    in city of Los Angeles, source: Open Data \n",
    "# CAUTION:  Data cleansing and preparation automated for input 2017 and 2018 csv files \n",
    "#                    completed in other scripts\n",
    "# AUTHOR:   Patty Jula\n",
    "# DATE:        2018"
   ]
  },
  {
   "cell_type": "code",
   "execution_count": 104,
   "metadata": {},
   "outputs": [],
   "source": [
    "# import dependencies\n",
    "import sys\n",
    "import numpy as np\n",
    "import pandas as pd\n",
    "import matplotlib.pyplot as plt\n",
    "import seaborn as sns"
   ]
  },
  {
   "cell_type": "code",
   "execution_count": 105,
   "metadata": {},
   "outputs": [
    {
     "name": "stdout",
     "output_type": "stream",
     "text": [
      "   month  count  year   0\n",
      "0      1  66532  2017 NaN\n",
      "1      2  62828  2017 NaN\n",
      "2      3  75136  2017 NaN\n",
      "3      4  71456  2017 NaN\n",
      "4      5  77993  2017 NaN\n"
     ]
    }
   ],
   "source": [
    "# set variables\n",
    "file_out_2017 = 'CFS_2017_month_data.csv'\n",
    "file_out_2018 = 'CFS_2018_month_data.csv'\n",
    "df1 = pd.read_csv(file_out_2017)\n",
    "df2 = pd.read_csv(file_out_2018)\n",
    "out = df1.append(df2)\n",
    "print(out.head())\n"
   ]
  },
  {
   "cell_type": "code",
   "execution_count": 106,
   "metadata": {},
   "outputs": [
    {
     "data": {
      "text/html": [
       "<div>\n",
       "<style scoped>\n",
       "    .dataframe tbody tr th:only-of-type {\n",
       "        vertical-align: middle;\n",
       "    }\n",
       "\n",
       "    .dataframe tbody tr th {\n",
       "        vertical-align: top;\n",
       "    }\n",
       "\n",
       "    .dataframe thead th {\n",
       "        text-align: right;\n",
       "    }\n",
       "</style>\n",
       "<table border=\"1\" class=\"dataframe\">\n",
       "  <thead>\n",
       "    <tr style=\"text-align: right;\">\n",
       "      <th></th>\n",
       "      <th>month</th>\n",
       "      <th>count</th>\n",
       "      <th>year</th>\n",
       "    </tr>\n",
       "  </thead>\n",
       "  <tbody>\n",
       "    <tr>\n",
       "      <th>0</th>\n",
       "      <td>1</td>\n",
       "      <td>66532</td>\n",
       "      <td>2017</td>\n",
       "    </tr>\n",
       "    <tr>\n",
       "      <th>1</th>\n",
       "      <td>2</td>\n",
       "      <td>62828</td>\n",
       "      <td>2017</td>\n",
       "    </tr>\n",
       "    <tr>\n",
       "      <th>2</th>\n",
       "      <td>3</td>\n",
       "      <td>75136</td>\n",
       "      <td>2017</td>\n",
       "    </tr>\n",
       "    <tr>\n",
       "      <th>3</th>\n",
       "      <td>4</td>\n",
       "      <td>71456</td>\n",
       "      <td>2017</td>\n",
       "    </tr>\n",
       "    <tr>\n",
       "      <th>4</th>\n",
       "      <td>5</td>\n",
       "      <td>77993</td>\n",
       "      <td>2017</td>\n",
       "    </tr>\n",
       "    <tr>\n",
       "      <th>5</th>\n",
       "      <td>6</td>\n",
       "      <td>81401</td>\n",
       "      <td>2017</td>\n",
       "    </tr>\n",
       "    <tr>\n",
       "      <th>0</th>\n",
       "      <td>1</td>\n",
       "      <td>74811</td>\n",
       "      <td>2018</td>\n",
       "    </tr>\n",
       "    <tr>\n",
       "      <th>1</th>\n",
       "      <td>2</td>\n",
       "      <td>68946</td>\n",
       "      <td>2018</td>\n",
       "    </tr>\n",
       "    <tr>\n",
       "      <th>2</th>\n",
       "      <td>3</td>\n",
       "      <td>76851</td>\n",
       "      <td>2018</td>\n",
       "    </tr>\n",
       "    <tr>\n",
       "      <th>3</th>\n",
       "      <td>4</td>\n",
       "      <td>76244</td>\n",
       "      <td>2018</td>\n",
       "    </tr>\n",
       "    <tr>\n",
       "      <th>4</th>\n",
       "      <td>5</td>\n",
       "      <td>82434</td>\n",
       "      <td>2018</td>\n",
       "    </tr>\n",
       "    <tr>\n",
       "      <th>5</th>\n",
       "      <td>6</td>\n",
       "      <td>82442</td>\n",
       "      <td>2018</td>\n",
       "    </tr>\n",
       "  </tbody>\n",
       "</table>\n",
       "</div>"
      ],
      "text/plain": [
       "   month  count  year\n",
       "0      1  66532  2017\n",
       "1      2  62828  2017\n",
       "2      3  75136  2017\n",
       "3      4  71456  2017\n",
       "4      5  77993  2017\n",
       "5      6  81401  2017\n",
       "0      1  74811  2018\n",
       "1      2  68946  2018\n",
       "2      3  76851  2018\n",
       "3      4  76244  2018\n",
       "4      5  82434  2018\n",
       "5      6  82442  2018"
      ]
     },
     "execution_count": 106,
     "metadata": {},
     "output_type": "execute_result"
    }
   ],
   "source": [
    "# remove extra column '0'\n",
    "out.drop(columns=['0'])"
   ]
  },
  {
   "cell_type": "code",
   "execution_count": 107,
   "metadata": {},
   "outputs": [],
   "source": [
    "# call csv for use in graph\n",
    "out.to_csv('CFS_combined.csv',header=True)\n",
    "# Read in data file\n",
    "out=pd.read_csv('CFS_combined.csv')"
   ]
  },
  {
   "cell_type": "code",
   "execution_count": 108,
   "metadata": {},
   "outputs": [
    {
     "data": {
      "image/png": "[encoded data removed]",
      "text/plain": [
       "<Figure size 432x288 with 1 Axes>"
      ]
     },
     "metadata": {},
     "output_type": "display_data"
    }
   ],
   "source": [
    "# utilize seaborn darkgrid\n",
    "sns.set_style(\"darkgrid\")\n",
    "\n",
    "# Define x and y axis for pointplot\n",
    "X='month'\n",
    "Y='count'\n",
    "\n",
    "# Sns input\n",
    "sns.pointplot(X,Y,hue=\"year\",data=out,palette=\"husl\")\n",
    "# Rotate x labels\n",
    "plt.xticks(rotation=60)\n",
    "# N is count of x values\n",
    "N = 6\n",
    "# the x locations for the groups\n",
    "ind = np.arange(N) \n",
    "# Set x tick labels, preferable than displaying months as numbers\n",
    "plt.xticks(ind, ('Jan','Feb','Mar','Apr','May','June'))\n",
    "\n",
    "# create legend, specify layout\n",
    "lgnd=plt.legend(loc=\"best\", title=\"Year\", \n",
    "                  labelspacing=0.5,shadow=True,frameon=True)\n",
    "\n",
    "# Incorporate a text label regarding CFS exclusions\n",
    "plt.ylabel('COUNT')\n",
    "plt.xlabel('MONTH')\n",
    "# Incorporate a text label regarding CFS exclusions\n",
    "plt.text(-0.5,55000, \"LOCATION: CITY OF LOS ANGELES\\nNOTE: Chart excludes 902 and CODE 6 records.\",fontsize=9)\n",
    "# Set border space\n",
    "plt.gcf().subplots_adjust(bottom=.8)\n",
    "plt.tight_layout(pad=1.5, w_pad=6, h_pad=4.0)\n",
    "\n",
    "# Set legend info\n",
    "frame = lgnd.get_frame()\n",
    "frame.set_facecolor('#ffffff')\n",
    "      \n",
    "# specify title, subtitle and position\n",
    "plt.title('Calls for Service by Dispatch Date',y=1.09,fontsize=18,weight=800)\n",
    "plt.suptitle(\"First Six Months of 2017 & 2018\", x=.55, y=1, fontsize=14)\n",
    "fname='CFS_monthly.png'\n",
    "\n",
    "# Create output png\n",
    "plt.savefig(fname,dpi=300,edgecolor='k')\n",
    "\n",
    "plt.show()"
   ]
  },
  {
   "cell_type": "code",
   "execution_count": null,
   "metadata": {},
   "outputs": [],
   "source": []
  },
  {
   "cell_type": "code",
   "execution_count": null,
   "metadata": {},
   "outputs": [],
   "source": []
  },
  {
   "cell_type": "code",
   "execution_count": null,
   "metadata": {},
   "outputs": [],
   "source": []
  }
 ],
 "metadata": {
  "kernelspec": {
   "display_name": "Python 3",
   "language": "python",
   "name": "python3"
  },
  "language_info": {
   "codemirror_mode": {
    "name": "ipython",
    "version": 3
   },
   "file_extension": ".py",
   "mimetype": "text/x-python",
   "name": "python",
   "nbconvert_exporter": "python",
   "pygments_lexer": "ipython3",
   "version": "3.6.5"
  }
 },
 "nbformat": 4,
 "nbformat_minor": 2
}
